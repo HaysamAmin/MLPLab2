{
 "cells": [
  {
   "cell_type": "markdown",
   "id": "f4481dcc",
   "metadata": {},
   "source": [
    "## Hello, Data!\n",
    "** in this setp load raw CSV, display first 3 rows"
   ]
  },
  {
   "cell_type": "code",
   "execution_count": 191,
   "id": "4cea5b09",
   "metadata": {},
   "outputs": [
    {
     "name": "stdout",
     "output_type": "stream",
     "text": [
      "<class 'pandas.core.frame.DataFrame'>\n",
      "RangeIndex: 501 entries, 0 to 500\n",
      "Data columns (total 14 columns):\n",
      " #   Column          Non-Null Count  Dtype  \n",
      "---  ------          --------------  -----  \n",
      " 0   Region          501 non-null    object \n",
      " 1   Country         501 non-null    object \n",
      " 2   Item Type       501 non-null    object \n",
      " 3   Sales Channel   501 non-null    object \n",
      " 4   Order Priority  501 non-null    object \n",
      " 5   Order Date      501 non-null    object \n",
      " 6   Order ID        501 non-null    int64  \n",
      " 7   Ship Date       501 non-null    object \n",
      " 8   Units Sold      501 non-null    int64  \n",
      " 9   Unit Price      501 non-null    float64\n",
      " 10  Unit Cost       501 non-null    float64\n",
      " 11  Total Revenue   501 non-null    float64\n",
      " 12  Total Cost      501 non-null    float64\n",
      " 13  Total Profit    501 non-null    float64\n",
      "dtypes: float64(5), int64(2), object(7)\n",
      "memory usage: 54.9+ KB\n",
      "None\n",
      "                         Region Country   Item Type Sales Channel  \\\n",
      "0  Middle East and North Africa   Libya   Cosmetics       Offline   \n",
      "1                 North America  Canada  Vegetables        Online   \n",
      "2  Middle East and North Africa   Libya   Baby Food       Offline   \n",
      "\n",
      "  Order Priority  Order Date   Order ID   Ship Date  Units Sold  Unit Price  \\\n",
      "0              M  10/18/2014  686800706  10/31/2014        8446      437.20   \n",
      "1              M   11/7/2011  185941302   12/8/2011        3018      154.06   \n",
      "2              C  10/31/2016  246222341   12/9/2016        1517      255.28   \n",
      "\n",
      "   Unit Cost  Total Revenue  Total Cost  Total Profit  \n",
      "0     263.33     3692591.20  2224085.18    1468506.02  \n",
      "1      90.93      464953.08   274426.74     190526.34  \n",
      "2     159.42      387259.76   241840.14     145419.62  \n"
     ]
    }
   ],
   "source": [
    "# import necessary dependencies\n",
    "import pandas as pd \n",
    "import random \n",
    "import re\n",
    "from datetime import datetime\n",
    "\n",
    "dataPath = 'Data/datafile.csv'\n",
    "# Load the CSV file into a DataFrame\n",
    "df = pd.read_csv(dataPath)\n",
    "# using only the first 500 rows\n",
    "df = df[:501]\n",
    "print(df.info()) # Display the shape of the DataFrame\n",
    "print(df.head(3)) # Display the first 3 rows of the DataFrame\n",
    "\n"
   ]
  },
  {
   "cell_type": "code",
   "execution_count": 192,
   "id": "5c6038f5",
   "metadata": {},
   "outputs": [
    {
     "name": "stdout",
     "output_type": "stream",
     "text": [
      "['Region', 'Country', 'Item_Type', 'Sales_Channel', 'Order_Priority', 'Order_Date', 'Order_ID', 'Ship_Date', 'Units_Sold', 'Unit_Price', 'Unit_Cost', 'Total_Revenue', 'Total_Cost', 'Total_Profit']\n"
     ]
    }
   ],
   "source": [
    "    # this is an additional function \n",
    "    # to Renames columns in the DataFrame to a standardized format\n",
    "def renamer(df):\n",
    "\n",
    "    return df.rename(columns={\n",
    "        \"Item Type\": \"Item_Type\",\n",
    "        \"Sales Channel\": \"Sales_Channel\",\n",
    "        \"Order Priority\": \"Order_Priority\",\n",
    "        \"Order Date\": \"Order_Date\",\n",
    "        \"Order ID\": \"Order_ID\",\n",
    "        \"Ship Date\": \"Ship_Date\",\n",
    "        \"Units Sold\": \"Units_Sold\",\n",
    "        \"Unit Price\": \"Unit_Price\",\n",
    "        \"Unit Cost\": \"Unit_Cost\",\n",
    "        \"Total Revenue\": \"Total_Revenue\",\n",
    "        \"Total Cost\": \"Total_Cost\",\n",
    "        \"Total Profit\": \"Total_Profit\"\n",
    "    })\n",
    "    \n",
    "df = renamer(df)  # Call the renamer function to rename columns\n",
    "print(df.columns.tolist())  # Display the updated column names as a list"
   ]
  },
  {
   "cell_type": "markdown",
   "id": "f87f469a",
   "metadata": {},
   "source": [
    "# Pick the Right Container\n",
    " - Class is preferred when you need to bundle data with behavior (methods)\n",
    " - Dict is best for simple, dynamic, and data storage when no attribute access or methods is needed.\n",
    "- namedtuple is ideal for immutable records where you want attribute access but don’t need methods or mutability."
   ]
  },
  {
   "cell_type": "code",
   "execution_count": 193,
   "id": "9ecdf784",
   "metadata": {},
   "outputs": [
    {
     "name": "stdout",
     "output_type": "stream",
     "text": [
      "<class 'list'>\n",
      "501\n",
      "<class 'dict'>\n",
      "{'Region': 'Middle East and North Africa', 'Country': 'Libya', 'Item_Type': 'Cosmetics', 'Sales_Channel': 'Offline', 'Order_Priority': 'M', 'Order_Date': '10/18/2014', 'Order_ID': 686800706, 'Ship_Date': '10/31/2014', 'Units_Sold': 8446, 'Unit_Price': 437.2, 'Unit_Cost': 263.33, 'Total_Revenue': 3692591.2, 'Total_Cost': 2224085.18, 'Total_Profit': 1468506.02}\n",
      "['Region', 'Country', 'Item_Type', 'Sales_Channel', 'Order_Priority', 'Order_Date', 'Order_ID', 'Ship_Date', 'Units_Sold', 'Unit_Price', 'Unit_Cost', 'Total_Revenue', 'Total_Cost', 'Total_Profit']\n"
     ]
    }
   ],
   "source": [
    "# storing the data in to a list of dictionaries\n",
    "#and reading the data from the list of dictionaries\n",
    "data = df.to_dict(orient='records')\n",
    "print(type(data))  # Display the type of data structure\n",
    "print(len(data))  # Display the number of records in the list\n",
    "print(type(data[0]))  # Display the type of the first record\n",
    "print(data[0])  # Display the first records from the list of dictionaries\n",
    "print(df.columns.tolist())  # Display the 'Category' column as a list"
   ]
  },
  {
   "cell_type": "markdown",
   "id": "f944e00c",
   "metadata": {},
   "source": [
    "## Transaction Class and OO data structure"
   ]
  },
  {
   "cell_type": "code",
   "execution_count": null,
   "id": "b2abf52c",
   "metadata": {},
   "outputs": [
    {
     "name": "stdout",
     "output_type": "stream",
     "text": [
      "Transaction(Region='Middle East and North Africa', Country='Libya', Item_Type='Cosmetics', Sales_Channel='Offline', Order_Priority='M', Order_Date='10/18/2014', Order_ID=686800706, Ship_Date='10/31/2014', Units_Sold=8446, Unit_Price=437.2, Unit_Cost=263.33, Total_Revenue=3692591.2, Total_Cost=2224085.18, Total_Profit=1468506.02, Coupon_Code=None, Coupon_Discount=0.0)\n"
     ]
    }
   ],
   "source": [
    "from dataclasses import dataclass, field\n",
    "from typing import Optional\n",
    "from datetime import datetime\n",
    "\n",
    "from dataclasses import dataclass\n",
    "\n",
    "@dataclass\n",
    "class Transaction:\n",
    "    Region: str\n",
    "    Country: str\n",
    "    Item_Type: str\n",
    "    Sales_Channel: str\n",
    "    Order_Priority: str\n",
    "    Order_Date: str\n",
    "    Order_ID: str\n",
    "    Ship_Date: str\n",
    "    Units_Sold: float\n",
    "    Unit_Price: float\n",
    "    Unit_Cost: float\n",
    "    Total_Revenue: float\n",
    "    Total_Cost: float\n",
    "    Total_Profit: float\n",
    "    Coupon_Code: Optional[str] = field(default=None)\n",
    "    Coupon_Discount: float = field(init=False, default=0.0)\n",
    "    \n",
    "    @property\n",
    "    def days_since_purchase(self) -> int:\n",
    "     try:\n",
    "        purchase_date = datetime.strptime(self.Ship_Date, '%m-%d-%y')  \n",
    "        today = datetime.now()\n",
    "        delta = today - purchase_date\n",
    "        return delta.days\n",
    "     except Exception:\n",
    "        return None \n",
    "    \n",
    "# to create one Transaction object from the first record\n",
    "transaction = Transaction(**data[0])\n",
    "# Display the Transaction object\n",
    "print(transaction)  # Display the Transaction object"
   ]
  },
  {
   "cell_type": "markdown",
   "id": "26f33119",
   "metadata": {},
   "source": [
    "## Bulk Loader"
   ]
  },
  {
   "cell_type": "code",
   "execution_count": 195,
   "id": "3f0ec3c1",
   "metadata": {},
   "outputs": [
    {
     "name": "stdout",
     "output_type": "stream",
     "text": [
      "[Transaction(Region='Middle East and North Africa', Country='Libya', Item_Type='Cosmetics', Sales_Channel='Offline', Order_Priority='M', Order_Date='10/18/2014', Order_ID=686800706, Ship_Date='10/31/2014', Units_Sold=8446, Unit_Price=437.2, Unit_Cost=263.33, Total_Revenue=3692591.2, Total_Cost=2224085.18, Total_Profit=1468506.02), Transaction(Region='North America', Country='Canada', Item_Type='Vegetables', Sales_Channel='Online', Order_Priority='M', Order_Date='11/7/2011', Order_ID=185941302, Ship_Date='12/8/2011', Units_Sold=3018, Unit_Price=154.06, Unit_Cost=90.93, Total_Revenue=464953.08, Total_Cost=274426.74, Total_Profit=190526.34), Transaction(Region='Middle East and North Africa', Country='Libya', Item_Type='Baby Food', Sales_Channel='Offline', Order_Priority='C', Order_Date='10/31/2016', Order_ID=246222341, Ship_Date='12/9/2016', Units_Sold=1517, Unit_Price=255.28, Unit_Cost=159.42, Total_Revenue=387259.76, Total_Cost=241840.14, Total_Profit=145419.62)]\n"
     ]
    }
   ],
   "source": [
    "# creat a Bulkloader function to handle bulk loading of transactions\n",
    "# the objects of the class will be used to load the transactions from a CSV file\n",
    "\n",
    "from typing import List\n",
    "\n",
    "def load_transactions(path: str) -> List[Transaction]:\n",
    "    df = pd.read_csv(path)\n",
    "    # Rename columns if needed, e.g.:\n",
    "    df = renamer(df)\n",
    "    # call the renamer function to rename the columns\n",
    "    data = df.to_dict(orient='records')\n",
    "    return [Transaction(**row) for row in data] # use list comprehension to convert each row to a Transaction object\n",
    "\n",
    "transactions = load_transactions(dataPath)  # Load transactions from the CSV file\\\n",
    "# Display the first 3 Transaction objects\n",
    "print(Transactions[:3])  # Display the first 3 Transaction objects"
   ]
  },
  {
   "cell_type": "markdown",
   "id": "d3a96a37",
   "metadata": {},
   "source": [
    "## Quick Profiling"
   ]
  },
  {
   "cell_type": "code",
   "execution_count": 196,
   "id": "a77a7326",
   "metadata": {},
   "outputs": [
    {
     "name": "stdout",
     "output_type": "stream",
     "text": [
      "Min Price: 9.33\n",
      "Mean Price: 262.10684\n",
      "Max Price: 668.27\n",
      "Unique country count: 185\n",
      "Unique countries: {'Switzerland', 'Ireland', 'Canada', 'Qatar', 'Tunisia ', 'Tuvalu', 'Antigua and Barbuda ', 'Maldives', 'Myanmar', 'North Korea', 'Djibouti', 'Vatican City', 'Kenya', 'Samoa ', 'Belgium', 'China', 'East Timor', 'Austria', 'Benin', 'Lithuania', 'Nepal', 'Yemen', 'Jamaica', 'Monaco', 'Botswana', 'Denmark', 'Turkmenistan', 'Mozambique', 'Sao Tome and Principe', 'Sweden', 'Democratic Republic of the Congo', 'Republic of the Congo', 'India', 'San Marino', 'Dominica', 'South Sudan', 'Algeria', 'Bulgaria', 'Thailand', 'Kazakhstan', 'Macedonia', 'Guinea', \"Cote d'Ivoire\", 'Angola', 'Togo', 'Spain', 'Japan', 'Ghana', 'Albania', 'France', 'The Gambia', 'Cyprus', 'Oman', 'Nigeria', 'Belize', 'Hungary', 'Slovenia', 'Croatia', 'Philippines', 'Singapore', 'Lesotho', 'Georgia', 'United Arab Emirates', 'Cambodia', 'Mali', 'Liechtenstein', 'Netherlands', 'Saint Kitts and Nevis ', 'Afghanistan', 'Pakistan', 'Solomon Islands', 'Czech Republic', 'Taiwan', 'Kuwait', 'Latvia', 'Germany', 'Armenia', 'Malta', 'Grenada', 'Luxembourg', 'Kosovo', 'Morocco', 'Chad', 'Trinidad and Tobago', 'Cape Verde', 'Papua New Guinea', 'Italy', 'Nauru', 'Tonga', 'Jordan', 'Lebanon', 'Mexico', 'Tajikistan', 'Tanzania', 'Dominican Republic', 'United Kingdom', 'Zimbabwe', 'Ethiopia', 'Bhutan', 'Bosnia and Herzegovina', 'Madagascar', 'Somalia', 'Kyrgyzstan', 'Zambia', 'Central African Republic', 'Panama', 'Saint Lucia', 'Bahrain', 'Cameroon', 'Costa Rica', 'Cuba', 'South Korea', 'Niger', 'Malaysia', 'Vanuatu', 'Moldova ', 'Bangladesh', 'Malawi', 'Iceland', 'Syria', 'The Bahamas', 'Greece', 'South Africa', 'Gabon', 'Equatorial Guinea', 'Uganda', 'Burundi', 'United States of America', 'Norway', 'Guinea-Bissau', 'Romania', 'Libya', 'Serbia', 'Namibia', 'Marshall Islands', 'Poland', 'Burkina Faso', 'Laos', 'Saudi Arabia', 'Iran', 'Uzbekistan', 'Comoros', 'New Zealand', 'Palau', 'El Salvador', 'Russia', 'Sudan', 'Kiribati', 'Haiti', 'Egypt', 'Australia', 'Slovakia', 'Montenegro', 'Liberia', 'Barbados', 'Azerbaijan', 'Honduras', 'Iraq', 'Seychelles ', 'Sierra Leone', 'Greenland', 'Guatemala', 'Ukraine', 'Vietnam', 'Indonesia', 'Swaziland', 'Mauritania', 'Fiji', 'Belarus', 'Rwanda', 'Senegal', 'Nicaragua', 'Portugal', 'Brunei', 'Andorra', 'Estonia', 'Israel', 'Finland', 'Saint Vincent and the Grenadines', 'Mauritius ', 'Federated States of Micronesia', 'Mongolia', 'Sri Lanka', 'Eritrea', 'Turkey'}\n"
     ]
    }
   ],
   "source": [
    "# Quick profiling of transactions\n",
    "\n",
    "# Min, mean, max of Price using generator expressions\n",
    "prices = (t.Unit_Price for t in transactions) # Create a generator for prices\n",
    "min_price = min(prices)\n",
    "\n",
    "# Need to re-create the generator since it's exhausted after min()\n",
    "prices = (t.Unit_Price for t in transactions)\n",
    "max_price = max(prices)\n",
    "\n",
    "prices = (t.Unit_Price for t in transactions)\n",
    "mean_price = sum(prices) / len(transactions)\n",
    "\n",
    "print(f\"Min Price: {min_price}\")\n",
    "print(f\"Mean Price: {mean_price}\")\n",
    "print(f\"Max Price: {max_price}\")\n",
    "\n",
    "# Count and present unique countries\n",
    "unique_countries = {t.Country for t in transactions}\n",
    "# \n",
    "print(f\"Unique country count: {len(unique_countries)}\")\n",
    "print(f\"Unique countries: {unique_countries}\")\n"
   ]
  },
  {
   "cell_type": "markdown",
   "id": "41393193",
   "metadata": {},
   "source": [
    "## Spot the Grime"
   ]
  },
  {
   "cell_type": "code",
   "execution_count": 197,
   "id": "9afe71d9",
   "metadata": {},
   "outputs": [
    {
     "name": "stdout",
     "output_type": "stream",
     "text": [
      "Transactions with dirty price values:\n",
      "Transaction(Region='Middle East and North Africa', Country='Libya', Item_Type='Cosmetics', Sales_Channel='Offline', Order_Priority='M', Order_Date='10/18/2014', Order_ID=686800706, Ship_Date='10/31/2014', Units_Sold=8446, Unit_Price=437.2, Unit_Cost=263.33, Total_Revenue=3692591.2, Total_Cost=-1, Total_Profit=1468506.02, Coupon_Code=None, Coupon_Discount=0.0)\n",
      "Transaction(Region='North America', Country='Canada', Item_Type='Vegetables', Sales_Channel='Online', Order_Priority='M', Order_Date='11/7/2011', Order_ID=185941302, Ship_Date='12/8/2011', Units_Sold=3018, Unit_Price=154.06, Unit_Cost=90.93, Total_Revenue=464953.08, Total_Cost='N/A', Total_Profit=190526.34, Coupon_Code=None, Coupon_Discount=0.0)\n",
      "Transaction(Region='Asia', Country='Japan', Item_Type='Cereal', Sales_Channel='Offline', Order_Priority='C', Order_Date='4/10/2010', Order_ID=161442649, Ship_Date='5/12/2010', Units_Sold=3322, Unit_Price=205.7, Unit_Cost=117.11, Total_Revenue=683335.4, Total_Cost=-1, Total_Profit=294295.98, Coupon_Code=None, Coupon_Discount=0.0)\n",
      "Transaction(Region='Europe', Country='Armenia', Item_Type='Cereal', Sales_Channel='Online', Order_Priority='H', Order_Date='11/24/2014', Order_ID=683458888, Ship_Date='12/28/2014', Units_Sold=9528, Unit_Price=205.7, Unit_Cost=117.11, Total_Revenue=1959909.6, Total_Cost=-1, Total_Profit=844085.52, Coupon_Code=None, Coupon_Discount=0.0)\n",
      "Transaction(Region='Central America and the Caribbean', Country='Jamaica', Item_Type='Vegetables', Sales_Channel='Online', Order_Priority='H', Order_Date='1/29/2015', Order_ID=266467225, Ship_Date='3/7/2015', Units_Sold=2428, Unit_Price=154.06, Unit_Cost=90.93, Total_Revenue=374057.68, Total_Cost='N/A', Total_Profit=153279.64, Coupon_Code=None, Coupon_Discount=0.0)\n"
     ]
    }
   ],
   "source": [
    "# Find transactions with dirty price values in the list \n",
    "# checking for \n",
    "     # negative values\n",
    "     # \"N/A\" values \n",
    "     # strings in the Price field\n",
    "def is_dirty_price():\n",
    "    dirty_price = [t for t in transactions if (isinstance(t.Total_Cost, str) and t.Total_Cost == \"N/A\") or (isinstance(t.Total_Cost, (int, float)) and t.Total_Cost < 0)]\n",
    "    print(\"Transactions with dirty price values:\")\n",
    "    for t in dirty_price:\n",
    "     print(t)\n",
    "# The data is clean so we can add randomly generated data to the transactions\n",
    "\n",
    "# creating some random list of dirty values\n",
    "dirty_values = [random.choice([None, \"N/A\", -1, 0, 'string']) for _ in range(10)]\n",
    "# Adding dirty values to the transactions\n",
    "for i in range(10):\n",
    "    transactions[i].Total_Cost = dirty_values[i]\n",
    "\n",
    "is_dirty_price()  # Call the function to check for dirty prices\n",
    "\n",
    "# Now to clean the dirty prices\n",
    "def clean_dirty_prices(transactions: List[Transaction]) -> List[Transaction]:\n",
    "    cleaned_transactions = []\n",
    "    for t in transactions:\n",
    "        if isinstance(t.Total_Cost, str) and t.Total_Cost == \"N/A\":\n",
    "            t.Total_Cost = 0.0  # Replace \"N/A\" with 0.0\n",
    "        elif isinstance(t.Total_Cost, (int, float)) and t.Total_Cost < 0:\n",
    "            t.Total_Cost = 0.0  # Replace negative values with 0.0\n",
    "        cleaned_transactions.append(t)\n",
    "    return cleaned_transactions\n",
    "\n",
    "\n"
   ]
  },
  {
   "cell_type": "markdown",
   "id": "b0aa1c4a",
   "metadata": {},
   "source": [
    "## Cleaning Rules"
   ]
  },
  {
   "cell_type": "code",
   "execution_count": 198,
   "id": "b20a0caa",
   "metadata": {},
   "outputs": [
    {
     "name": "stdout",
     "output_type": "stream",
     "text": [
      "***************Dirty prices before cleaning***************\n",
      "Transactions with dirty price values:\n",
      "Transaction(Region='Middle East and North Africa', Country='Libya', Item_Type='Cosmetics', Sales_Channel='Offline', Order_Priority='M', Order_Date='10/18/2014', Order_ID=686800706, Ship_Date='10/31/2014', Units_Sold=8446, Unit_Price=437.2, Unit_Cost=263.33, Total_Revenue=3692591.2, Total_Cost=-1, Total_Profit=1468506.02, Coupon_Code=None, Coupon_Discount=0.0)\n",
      "Transaction(Region='North America', Country='Canada', Item_Type='Vegetables', Sales_Channel='Online', Order_Priority='M', Order_Date='11/7/2011', Order_ID=185941302, Ship_Date='12/8/2011', Units_Sold=3018, Unit_Price=154.06, Unit_Cost=90.93, Total_Revenue=464953.08, Total_Cost='N/A', Total_Profit=190526.34, Coupon_Code=None, Coupon_Discount=0.0)\n",
      "Transaction(Region='Asia', Country='Japan', Item_Type='Cereal', Sales_Channel='Offline', Order_Priority='C', Order_Date='4/10/2010', Order_ID=161442649, Ship_Date='5/12/2010', Units_Sold=3322, Unit_Price=205.7, Unit_Cost=117.11, Total_Revenue=683335.4, Total_Cost=-1, Total_Profit=294295.98, Coupon_Code=None, Coupon_Discount=0.0)\n",
      "Transaction(Region='Europe', Country='Armenia', Item_Type='Cereal', Sales_Channel='Online', Order_Priority='H', Order_Date='11/24/2014', Order_ID=683458888, Ship_Date='12/28/2014', Units_Sold=9528, Unit_Price=205.7, Unit_Cost=117.11, Total_Revenue=1959909.6, Total_Cost=-1, Total_Profit=844085.52, Coupon_Code=None, Coupon_Discount=0.0)\n",
      "Transaction(Region='Central America and the Caribbean', Country='Jamaica', Item_Type='Vegetables', Sales_Channel='Online', Order_Priority='H', Order_Date='1/29/2015', Order_ID=266467225, Ship_Date='3/7/2015', Units_Sold=2428, Unit_Price=154.06, Unit_Cost=90.93, Total_Revenue=374057.68, Total_Cost='N/A', Total_Profit=153279.64, Coupon_Code=None, Coupon_Discount=0.0)\n",
      "***************Cleaning dirty prices***************\n",
      "***************Dirty prices after cleaning***************\n",
      "Transactions with dirty price values:\n"
     ]
    }
   ],
   "source": [
    "# clean the dirty prices\n",
    "# this a function that acceptes a list of Transaction objects\n",
    "# and the column  name to returns a cleaned list of Transaction objects\n",
    "def clean_dirty_col(transactions: list, col_name: str) -> list:\n",
    "    cleaned_transactions = []\n",
    "    for t in transactions:\n",
    "        value = getattr(t, col_name)\n",
    "        if isinstance(value, str) and value == \"N/A\":\n",
    "            setattr(t, col_name, 0.0)\n",
    "        elif isinstance(value, (int, float)) and value < 0:\n",
    "            setattr(t, col_name, 0.0)\n",
    "        cleaned_transactions.append(t)\n",
    "    return cleaned_transactions\n",
    "\n",
    "# to see tha dirty data call is_dirty_price() \n",
    "print(\"***************Dirty prices before cleaning***************\")\n",
    "is_dirty_price()\n",
    "#  to clean data use the clean_dirty_col()\n",
    "print(\"***************Cleaning dirty prices***************\")\n",
    "clean_dirty_col(transactions, 'Total_Cost')\n",
    "\n",
    "# to see the cleaned data call is_dirty_price()\n",
    "print(\"***************Dirty prices after cleaning***************\")\n",
    "is_dirty_price()\n"
   ]
  },
  {
   "cell_type": "code",
   "execution_count": null,
   "id": "63d68523",
   "metadata": {},
   "outputs": [],
   "source": []
  },
  {
   "cell_type": "markdown",
   "id": "47929af0",
   "metadata": {},
   "source": [
    "## Transformations"
   ]
  },
  {
   "cell_type": "code",
   "execution_count": 199,
   "id": "8cc33bfd",
   "metadata": {},
   "outputs": [
    {
     "name": "stdout",
     "output_type": "stream",
     "text": [
      "SAVE5\n",
      "SAVE10\n",
      "SAVE5\n"
     ]
    }
   ],
   "source": [
    "# Randomly assign 'SAVE5', 'SAVE10', or 'SAVE15' to the Coupon_Code field for each transaction\n",
    "for t in transactions:\n",
    "    t.Coupon_Code = random.choice(['SAVE5', 'SAVE10', 'SAVE15'])\n",
    "\n",
    "# showing reandom selected Coupon_code fields \n",
    "print(transactions[2].Coupon_Code)\n",
    "print(transactions[3].Coupon_Code)\n",
    "print(transactions[0].Coupon_Code)\n",
    "\n",
    "# to extract the value of the discount from the coupon\n",
    "# use RegEx\n",
    "\n",
    "for t in transactions:\n",
    "    match = re.search(r'(\\d+)', t.Coupon_Code)\n",
    "    if match:\n",
    "        t.Coupon_Discount = float(match.group(1))\n",
    "    else:\n",
    "        t.Coupon_Discount = 0.0\n"
   ]
  },
  {
   "cell_type": "markdown",
   "id": "fac40144",
   "metadata": {},
   "source": [
    "## Feature Engineering"
   ]
  },
  {
   "cell_type": "code",
   "execution_count": null,
   "id": "5e03fc19",
   "metadata": {},
   "outputs": [
    {
     "name": "stdout",
     "output_type": "stream",
     "text": [
      "None\n",
      "None\n",
      "None\n",
      "None\n",
      "None\n",
      "None\n",
      "None\n"
     ]
    }
   ],
   "source": [
    "# Display the first  7 days since purchase for the first 7 transactions\n",
    "for i in range(0,7):\n",
    " print( transactions[i].days_since_purchase)  # Display the day from the Date of the first transaction"
   ]
  },
  {
   "cell_type": "markdown",
   "id": "22842436",
   "metadata": {},
   "source": [
    "## Mini-Aggregation"
   ]
  },
  {
   "cell_type": "code",
   "execution_count": 201,
   "id": "79a18a31",
   "metadata": {},
   "outputs": [
    {
     "name": "stdout",
     "output_type": "stream",
     "text": [
      "Libya: 6100113.66\n",
      "Canada: 1226103.30\n",
      "Japan: 11883719.65\n",
      "Chad: 17278040.69\n",
      "Armenia: 7139689.51\n",
      "Eritrea: 1474455.62\n",
      "Montenegro: 2856171.02\n",
      "Jamaica: 781659.17\n",
      "Fiji: 4992255.60\n",
      "Togo: 1734332.62\n",
      "Greece: 5965376.90\n",
      "Sudan: 9824498.98\n",
      "Maldives: 7639004.44\n",
      "Estonia: 7873109.81\n",
      "Greenland: 9953334.49\n",
      "Cape Verde: 3629118.65\n",
      "Senegal: 8204766.32\n",
      "Federated States of Micronesia: 471158.71\n",
      "Bulgaria: 5430330.56\n",
      "Algeria: 10272591.44\n",
      "Mongolia: 10143794.91\n",
      "Grenada: 2963196.96\n",
      "Mauritius : 5649551.29\n",
      "Morocco: 9937837.48\n",
      "Honduras: 7299060.35\n",
      "Benin: 9039257.06\n",
      "Equatorial Guinea: 7753130.10\n",
      "Swaziland: 12845719.41\n",
      "Trinidad and Tobago: 6502214.67\n",
      "Sweden: 10324874.87\n",
      "Belarus: 13482813.12\n",
      "Guinea-Bissau: 6512548.69\n",
      "Turkey: 10225728.21\n",
      "Central African Republic: 16591036.85\n",
      "Laos: 2226896.60\n",
      "Israel: 3265587.15\n",
      "Bhutan: 12986378.17\n",
      "Vanuatu: 16011801.84\n",
      "Burundi: 7032758.55\n",
      "Ukraine: 6640695.22\n",
      "Croatia: 941892.69\n",
      "Madagascar: 3061002.80\n",
      "Malaysia: 16416989.18\n",
      "Uzbekistan: 11632538.02\n",
      "Italy: 8042108.55\n",
      "Nepal: 3838301.28\n",
      "Portugal: 15884378.55\n",
      "Panama: 13126867.80\n",
      "Botswana: 2758990.99\n",
      "Tanzania: 6794687.03\n",
      "Romania: 10877716.39\n",
      "Mali: 9088046.78\n",
      "Niger: 12738142.62\n",
      "Austria: 16199378.41\n",
      "India: 6767869.55\n",
      "Luxembourg: 12231206.91\n",
      "Iceland: 5783631.18\n",
      "Qatar: 10303688.34\n",
      "South Sudan: 12890088.98\n",
      "United Kingdom: 5905405.47\n",
      "Tunisia : 7835941.77\n",
      "United States of America: 11927294.75\n",
      "Liberia: 4401652.94\n",
      "South Korea: 2042242.70\n",
      "Kenya: 9138321.08\n",
      "Rwanda: 4984069.19\n",
      "Cuba: 27522085.87\n",
      "Czech Republic: 15603240.11\n",
      "Philippines: 2511823.08\n",
      "El Salvador: 1686991.53\n",
      "Tonga: 11821702.00\n",
      "Democratic Republic of the Congo: 5999548.38\n",
      "Afghanistan: 2843589.07\n",
      "Tuvalu: 4753453.52\n",
      "Gabon: 7350658.56\n",
      "East Timor: 6286071.32\n",
      "Jordan: 11956362.24\n",
      "Cyprus: 5502527.89\n",
      "Malawi: 10722230.08\n",
      "United Arab Emirates: 2591172.23\n",
      "China: 10272536.76\n",
      "Somalia: 4375138.01\n",
      "Bangladesh: 5811989.16\n",
      "Egypt: 8143736.89\n",
      "Vietnam: 11668032.25\n",
      "Marshall Islands: 2525007.50\n",
      "Taiwan: 4504146.65\n",
      "Ireland: 14070575.29\n",
      "South Africa: 11920602.36\n",
      "Albania: 9709899.27\n",
      "Ghana: 21267908.50\n",
      "Saint Lucia: 6358448.60\n",
      "Macedonia: 2478469.50\n",
      "Germany: 14150892.19\n",
      "Poland: 13607288.51\n",
      "Namibia: 4790409.36\n",
      "Zimbabwe: 6928978.02\n",
      "Norway: 6919276.23\n",
      "Oman: 4702742.25\n",
      "Serbia: 5895768.83\n",
      "Brunei: 2702495.89\n",
      "Nicaragua: 2159493.83\n",
      "Lithuania: 7830091.32\n",
      "Republic of the Congo: 4243168.94\n",
      "Cameroon: 95209.92\n",
      "Moldova : 10971921.52\n",
      "Bahrain: 9022805.73\n",
      "Hungary: 8275573.91\n",
      "Iraq: 4781813.25\n",
      "Lesotho: 9349544.03\n",
      "Lebanon: 13356289.44\n",
      "Georgia: 12197986.98\n",
      "Ethiopia: 4632012.47\n",
      "Mexico: 1854866.40\n",
      "Nigeria: 2053657.99\n",
      "Solomon Islands: 5148883.07\n",
      "Burkina Faso: 3779357.44\n",
      "Kiribati: 4744159.33\n",
      "Comoros: 8999886.92\n",
      "Iran: 18719532.99\n",
      "Belize: 9839301.81\n",
      "Andorra: 7153122.97\n",
      "Slovakia: 4503076.26\n",
      "Antigua and Barbuda : 5650520.67\n",
      "Myanmar: 3596431.85\n",
      "Nauru: 1225622.72\n",
      "Finland: 9668457.12\n",
      "Papua New Guinea: 22209652.47\n",
      "Mozambique: 9093023.98\n",
      "Spain: 8288153.29\n",
      "Belgium: 9959553.53\n",
      "Cote d'Ivoire: 5121515.92\n",
      "Switzerland: 5483183.15\n",
      "Palau: 7935532.95\n",
      "Slovenia: 6768172.96\n",
      "Guinea: 9896306.25\n",
      "Russia: 2965463.22\n",
      "Seychelles : 6980875.62\n",
      "Costa Rica: 19628279.63\n",
      "Liechtenstein: 7184947.83\n",
      "Uganda: 2402771.36\n",
      "Guatemala: 8701213.81\n",
      "Thailand: 3619609.81\n",
      "Denmark: 260832.65\n",
      "Angola: 15643032.02\n",
      "North Korea: 8665953.92\n",
      "Yemen: 11813464.95\n",
      "Dominican Republic: 10068140.14\n",
      "Vatican City: 1575379.28\n",
      "Djibouti: 7896155.06\n",
      "Malta: 3731064.80\n",
      "The Bahamas: 8824492.76\n",
      "Tajikistan: 4340537.42\n",
      "Saudi Arabia: 4083970.71\n",
      "Mauritania: 6825381.02\n",
      "New Zealand: 11723675.56\n",
      "Samoa : 2625265.85\n",
      "Singapore: 3894250.85\n",
      "Pakistan: 4396334.96\n",
      "Sao Tome and Principe: 6662225.65\n",
      "Turkmenistan: 3715458.72\n",
      "Monaco: 5541658.84\n",
      "Saint Kitts and Nevis : 4783484.52\n",
      "Cambodia: 4642313.70\n",
      "Kyrgyzstan: 2132326.52\n",
      "Indonesia: 1972317.35\n",
      "Kazakhstan: 715717.14\n",
      "Australia: 3215330.16\n",
      "Syria: 5345650.85\n",
      "Azerbaijan: 5308405.46\n",
      "Barbados: 2803550.10\n",
      "Kuwait: 5724038.66\n",
      "San Marino: 1412469.13\n",
      "Netherlands: 8988630.52\n",
      "Kosovo: 956534.16\n",
      "Latvia: 566096.65\n",
      "Bosnia and Herzegovina: 4359359.83\n",
      "Sri Lanka: 7331133.92\n",
      "Dominica: 882189.76\n",
      "Haiti: 3472696.83\n",
      "Saint Vincent and the Grenadines: 943721.70\n",
      "Sierra Leone: 6793129.51\n",
      "Zambia: 1954116.20\n",
      "France: 1009016.03\n",
      "The Gambia: 1898327.32\n"
     ]
    }
   ],
   "source": [
    "# Group transactions by Country and calculate total revenue\n",
    "from collections import defaultdict\n",
    "\n",
    "revenue_by_country = defaultdict(float)\n",
    "for t in transactions:\n",
    "    try:\n",
    "        revenue_by_country[t.Country] += float(t.Total_Revenue)\n",
    "    except Exception:\n",
    "        pass  # skip if Total_Revenue is not convertible\n",
    "\n",
    "for country, total in revenue_by_country.items():\n",
    "    print(f\"{country}: {total:.2f}\")  # Display total revenue by country"
   ]
  }
 ],
 "metadata": {
  "kernelspec": {
   "display_name": "base",
   "language": "python",
   "name": "python3"
  },
  "language_info": {
   "codemirror_mode": {
    "name": "ipython",
    "version": 3
   },
   "file_extension": ".py",
   "mimetype": "text/x-python",
   "name": "python",
   "nbconvert_exporter": "python",
   "pygments_lexer": "ipython3",
   "version": "3.12.7"
  }
 },
 "nbformat": 4,
 "nbformat_minor": 5
}
