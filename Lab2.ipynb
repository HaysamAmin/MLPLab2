{
 "cells": [
  {
   "cell_type": "markdown",
   "id": "f4481dcc",
   "metadata": {},
   "source": [
    "## Hello, Data!\n",
    "** in this setp load raw CSV, display first 3 rows"
   ]
  },
  {
   "cell_type": "code",
   "execution_count": 3,
   "id": "4cea5b09",
   "metadata": {},
   "outputs": [
    {
     "name": "stdout",
     "output_type": "stream",
     "text": [
      "                         Region Country   Item Type Sales Channel  \\\n",
      "0  Middle East and North Africa   Libya   Cosmetics       Offline   \n",
      "1                 North America  Canada  Vegetables        Online   \n",
      "2  Middle East and North Africa   Libya   Baby Food       Offline   \n",
      "\n",
      "  Order Priority  Order Date   Order ID   Ship Date  Units Sold  Unit Price  \\\n",
      "0              M  10/18/2014  686800706  10/31/2014        8446      437.20   \n",
      "1              M   11/7/2011  185941302   12/8/2011        3018      154.06   \n",
      "2              C  10/31/2016  246222341   12/9/2016        1517      255.28   \n",
      "\n",
      "   Unit Cost  Total Revenue  Total Cost  Total Profit  \n",
      "0     263.33     3692591.20  2224085.18    1468506.02  \n",
      "1      90.93      464953.08   274426.74     190526.34  \n",
      "2     159.42      387259.76   241840.14     145419.62  \n"
     ]
    }
   ],
   "source": [
    "import pandas as pd \n",
    "#\n",
    "dataPath = 'Data/datafile.csv'\n",
    "# Load the CSV file into a DataFrame\n",
    "df = pd.read_csv(dataPath)\n",
    "print(df.head(3)) # Display the first 3 rows of the DataFrame"
   ]
  }
 ],
 "metadata": {
  "kernelspec": {
   "display_name": "base",
   "language": "python",
   "name": "python3"
  },
  "language_info": {
   "codemirror_mode": {
    "name": "ipython",
    "version": 3
   },
   "file_extension": ".py",
   "mimetype": "text/x-python",
   "name": "python",
   "nbconvert_exporter": "python",
   "pygments_lexer": "ipython3",
   "version": "3.12.7"
  }
 },
 "nbformat": 4,
 "nbformat_minor": 5
}
